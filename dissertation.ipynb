{
 "cells": [
  {
   "attachments": {},
   "cell_type": "markdown",
   "metadata": {},
   "source": [
    "# Project"
   ]
  },
  {
   "cell_type": "code",
   "execution_count": 12,
   "metadata": {},
   "outputs": [],
   "source": [
    "import pandas as pd"
   ]
  },
  {
   "cell_type": "code",
   "execution_count": 23,
   "metadata": {},
   "outputs": [
    {
     "name": "stderr",
     "output_type": "stream",
     "text": [
      "c:\\Python38\\lib\\site-packages\\pandas\\core\\dtypes\\cast.py:995: RuntimeWarning: invalid value encountered in cast\n",
      "  return arr.astype(dtype, copy=True)\n"
     ]
    }
   ],
   "source": [
    "path = \"D:/OneDrive - University of Warwick/Dissertation/review-Alaska_10.json\"\n",
    "\n",
    "data_frame = pd.read_json(path, lines=True, encoding='utf-8')"
   ]
  },
  {
   "attachments": {},
   "cell_type": "markdown",
   "metadata": {},
   "source": [
    "This indicates the presence of NA values in the data. However, as this is one of the aspects we intend to investigate, we will selectively perform data cleaning at a later stage."
   ]
  },
  {
   "cell_type": "code",
   "execution_count": 17,
   "metadata": {},
   "outputs": [
    {
     "name": "stdout",
     "output_type": "stream",
     "text": [
      "<class 'pandas.core.frame.DataFrame'>\n",
      "Int64Index: 1608 entries, 543 to 520376\n",
      "Data columns (total 8 columns):\n",
      " #   Column   Non-Null Count  Dtype  \n",
      "---  ------   --------------  -----  \n",
      " 0   user_id  1608 non-null   float64\n",
      " 1   name     1608 non-null   object \n",
      " 2   time     1608 non-null   int64  \n",
      " 3   rating   1608 non-null   int64  \n",
      " 4   text     1608 non-null   object \n",
      " 5   pics     1608 non-null   object \n",
      " 6   resp     1608 non-null   object \n",
      " 7   gmap_id  1608 non-null   object \n",
      "dtypes: float64(1), int64(2), object(5)\n",
      "memory usage: 113.1+ KB\n",
      "None\n"
     ]
    }
   ],
   "source": [
    "print(data_frame.info())"
   ]
  },
  {
   "cell_type": "code",
   "execution_count": 18,
   "metadata": {},
   "outputs": [
    {
     "name": "stdout",
     "output_type": "stream",
     "text": [
      "          user_id                            name           time  rating  \\\n",
      "543  1.018101e+20                        Samantha  1621135489200       5   \n",
      "544  1.168173e+20  Christian Rose Sande-Mandregan  1620128373080       5   \n",
      "546  1.151922e+20                             C S  1620517202933       5   \n",
      "547  1.152884e+20                       Chick Zee  1613024620459       5   \n",
      "652  1.155175e+20                         Josh N.  1534545553526       5   \n",
      "\n",
      "                                                  text  \\\n",
      "543  We had a bulk of laundry to wash and came acro...   \n",
      "544  Excellent is the rating I give Quantum Laundry...   \n",
      "546  This is the first time I have had to use a pub...   \n",
      "547  Went to their soft opening today and it's alre...   \n",
      "652                                        Good to go.   \n",
      "\n",
      "                                                  pics  \\\n",
      "543  [{'url': ['https://lh5.googleusercontent.com/p...   \n",
      "544  [{'url': ['https://lh5.googleusercontent.com/p...   \n",
      "546  [{'url': ['https://lh5.googleusercontent.com/p...   \n",
      "547  [{'url': ['https://lh5.googleusercontent.com/p...   \n",
      "652  [{'url': ['https://lh5.googleusercontent.com/p...   \n",
      "\n",
      "                                                  resp  \\\n",
      "543  {'time': 1623294828873, 'text': 'yaaaay! We lo...   \n",
      "544  {'time': 1620322288857, 'text': 'Christian, th...   \n",
      "546  {'time': 1620861069860, 'text': 'We are so sor...   \n",
      "547  {'time': 1613414900879, 'text': 'Thank You So ...   \n",
      "652  {'time': 1534548581000, 'text': 'Thank you for...   \n",
      "\n",
      "                                   gmap_id  \n",
      "543  0x56c897357c18a56f:0xe7db882a87e21dfb  \n",
      "544  0x56c897357c18a56f:0xe7db882a87e21dfb  \n",
      "546  0x56c897357c18a56f:0xe7db882a87e21dfb  \n",
      "547  0x56c897357c18a56f:0xe7db882a87e21dfb  \n",
      "652  0x56c8d005cf39e6b1:0x43c5554fd776f5af  \n"
     ]
    }
   ],
   "source": [
    "print(data_frame.head())"
   ]
  },
  {
   "attachments": {},
   "cell_type": "markdown",
   "metadata": {},
   "source": [
    "## Data Dictionary"
   ]
  },
  {
   "attachments": {},
   "cell_type": "markdown",
   "metadata": {},
   "source": [
    "## Data Cleaning"
   ]
  },
  {
   "cell_type": "code",
   "execution_count": null,
   "metadata": {},
   "outputs": [],
   "source": []
  }
 ],
 "metadata": {
  "kernelspec": {
   "display_name": "Python 3",
   "language": "python",
   "name": "python3"
  },
  "language_info": {
   "codemirror_mode": {
    "name": "ipython",
    "version": 3
   },
   "file_extension": ".py",
   "mimetype": "text/x-python",
   "name": "python",
   "nbconvert_exporter": "python",
   "pygments_lexer": "ipython3",
   "version": "3.8.5"
  },
  "orig_nbformat": 4
 },
 "nbformat": 4,
 "nbformat_minor": 2
}
